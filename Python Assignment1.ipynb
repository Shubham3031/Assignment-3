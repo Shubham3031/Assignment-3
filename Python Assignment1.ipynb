{
 "cells": [
  {
   "cell_type": "code",
   "execution_count": null,
   "id": "20f3be52-d3bc-4920-89c3-cab26f74a305",
   "metadata": {},
   "outputs": [],
   "source": [
    "# 1.Ans.\n",
    "For loop:\n",
    "Use a for loop when you want to iterate over a sequence\n",
    "(such as a list, tuple, or string) and perform the same action\n",
    "for each item in the sequence.\n",
    " Example :-\n",
    "    l1 = [\"shubh\",\"kumar\",\"sk\",\"skm\"]\n",
    "    for i in l1 :\n",
    "        print(i)\n",
    "        \n",
    "While loop:\n",
    "Use a while loop when you want to keep \n",
    "repeating an action until a certain condition is met.\n",
    " Example:-\n",
    "    i = 0\n",
    "    while i < 10:\n",
    "        print(i)\n",
    "        i+=1\n",
    "    "
   ]
  },
  {
   "cell_type": "code",
   "execution_count": 20,
   "id": "1c2d7e53-1560-4c10-bfb3-9f7a040db066",
   "metadata": {},
   "outputs": [
    {
     "data": {
      "text/plain": [
       "3628800"
      ]
     },
     "execution_count": 20,
     "metadata": {},
     "output_type": "execute_result"
    }
   ],
   "source": [
    " # 2.Ans.\n",
    "    # Using For loop sum and product  of first 10 natural numbers\n",
    "  \n",
    "sum = 0\n",
    "for i in range(11):\n",
    "    sum = sum + i\n",
    "sum\n",
    "\n",
    "\n",
    "\n",
    "product = 1\n",
    "for i in range(1,11):\n",
    "    product = product*i\n",
    "product\n"
   ]
  },
  {
   "cell_type": "code",
   "execution_count": 5,
   "id": "09221e35-3a3a-466f-83dc-e571eb0aa37e",
   "metadata": {},
   "outputs": [
    {
     "data": {
      "text/plain": [
       "3628800"
      ]
     },
     "execution_count": 5,
     "metadata": {},
     "output_type": "execute_result"
    }
   ],
   "source": [
    "# 2.Ans.\n",
    "# Using While loop sum and product of first 10 natural numbers\n",
    "\n",
    "sum = 0\n",
    "count = 1\n",
    "while count <= 10:\n",
    "    sum+=count\n",
    "    count+=1\n",
    "sum\n",
    "\n",
    "\n",
    "product = 1\n",
    "count = 1\n",
    "while count <= 10:\n",
    "    product = product*count\n",
    "    count+=1\n",
    "product\n",
    "\n",
    "\n",
    "\n"
   ]
  },
  {
   "cell_type": "code",
   "execution_count": 10,
   "id": "5fe121b6-8112-4430-999d-66854954350d",
   "metadata": {},
   "outputs": [
    {
     "name": "stdout",
     "output_type": "stream",
     "text": [
      "Enter the unit consumption 310\n"
     ]
    },
    {
     "name": "stdout",
     "output_type": "stream",
     "text": [
      "2250.0\n"
     ]
    }
   ],
   "source": [
    "# 3.Ans.\n",
    "units = int(input(\"Enter the unit consumption\"))\n",
    "if units <= 100 :\n",
    "    print(units*4.5)\n",
    "elif units <= 200 :\n",
    "    print(100*4.5 + (units-100)*6)\n",
    "elif units <= 300:\n",
    "    print(100*4.5 + 100*6 + (units-200)*10)\n",
    "else :\n",
    "    print(100*4.5 + 100*6 + 100*10 + (units-300)*20)\n",
    "            \n",
    "            "
   ]
  },
  {
   "cell_type": "code",
   "execution_count": 14,
   "id": "0a85a84c-2dc9-4301-9e53-914fe2bec224",
   "metadata": {},
   "outputs": [
    {
     "name": "stdout",
     "output_type": "stream",
     "text": [
      "Cubes divisible by 4 or 5   [8, 64, 125, 216, 512, 1000, 1728, 2744, 3375, 4096, 5832, 8000, 10648, 13824, 15625, 17576, 21952, 27000, 32768, 39304, 42875, 46656, 54872, 64000, 74088, 85184, 91125, 97336, 110592, 125000, 140608, 157464, 166375, 175616, 195112, 216000, 238328, 262144, 274625, 287496, 314432, 343000, 373248, 405224, 421875, 438976, 474552, 512000, 551368, 592704, 614125, 636056, 681472, 729000, 778688, 830584, 857375, 884736, 941192, 1000000]\n"
     ]
    }
   ],
   "source": [
    "# 4.Ans.\n",
    "# Using For Loop\n",
    "cubes_using_For = []\n",
    "for i in range(1,101):\n",
    "    cube = i**3\n",
    "    if (cube % 4 == 0) or (cube % 5 == 0):\n",
    "        cubes_using_For.append(cube)\n",
    "\n",
    "print(\"Cubes divisible by 4 or 5  \", cubes_using_For)"
   ]
  },
  {
   "cell_type": "code",
   "execution_count": 15,
   "id": "541f0e58-fdc8-4793-8ced-8fa5a3691644",
   "metadata": {},
   "outputs": [
    {
     "name": "stdout",
     "output_type": "stream",
     "text": [
      "Cubes divisible by 4 or 5   [8, 64, 125, 216, 512, 1000, 1728, 2744, 3375, 4096, 5832, 8000, 10648, 13824, 15625, 17576, 21952, 27000, 32768, 39304, 42875, 46656, 54872, 64000, 74088, 85184, 91125, 97336, 110592, 125000, 140608, 157464, 166375, 175616, 195112, 216000, 238328, 262144, 274625, 287496, 314432, 343000, 373248, 405224, 421875, 438976, 474552, 512000, 551368, 592704, 614125, 636056, 681472, 729000, 778688, 830584, 857375, 884736, 941192, 1000000]\n"
     ]
    }
   ],
   "source": [
    "# 4.Ans.\n",
    "# Using While loop\n",
    "cubes_using_while = []\n",
    "i = 1\n",
    "while i <= 100:\n",
    "    cube = i**3\n",
    "    if (cube % 4 == 0) or (cube % 5 == 0):\n",
    "        cubes_using_while.append(cube)\n",
    "    i += 1\n",
    "\n",
    "print(\"Cubes divisible by 4 or 5  \", cubes_using_while)"
   ]
  },
  {
   "cell_type": "code",
   "execution_count": 19,
   "id": "8db34527-6264-4b56-bae3-cba073ef92e2",
   "metadata": {},
   "outputs": [
    {
     "name": "stdout",
     "output_type": "stream",
     "text": [
      "I\n",
      "a\n",
      "o\n",
      "e\n",
      "o\n",
      "e\n",
      "a\n",
      "a\n",
      "a\n",
      "i\n",
      "e\n",
      "i\n"
     ]
    }
   ],
   "source": [
    "# 5.Ans.\n",
    "str =  \"I want to become a data scientist\"\n",
    "for char in str:\n",
    "    if char.lower() in 'aeiou':\n",
    "        print(char)\n",
    "    \n",
    "    \n"
   ]
  }
 ],
 "metadata": {
  "kernelspec": {
   "display_name": "Python 3 (ipykernel)",
   "language": "python",
   "name": "python3"
  },
  "language_info": {
   "codemirror_mode": {
    "name": "ipython",
    "version": 3
   },
   "file_extension": ".py",
   "mimetype": "text/x-python",
   "name": "python",
   "nbconvert_exporter": "python",
   "pygments_lexer": "ipython3",
   "version": "3.10.8"
  }
 },
 "nbformat": 4,
 "nbformat_minor": 5
}
